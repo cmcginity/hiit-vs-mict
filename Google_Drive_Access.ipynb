{
 "cells": [
  {
   "cell_type": "markdown",
   "id": "87e37b69-d6ad-43e7-b5d3-a35f5520a929",
   "metadata": {},
   "source": [
    "# Notebook for configuring access to Google Drive, and looking at Polar H10 workout data!\n"
   ]
  },
  {
   "cell_type": "markdown",
   "id": "23aa7890-d5de-4b1e-9c71-f7623a6d8f68",
   "metadata": {},
   "source": [
    "## Set up Google Drive connection\n",
    "\n",
    "We are using a special \"Service Account\" to access Google Drive. To access Google Drive, yo\n",
    "u need to do two things:\n",
    "1. You will store this service account credential (a json file - ask Aubrey for it) on your computer. Input the path name below as *credentials_path.*\n",
    "2. Replace the *folder_id* with the end of the web URL for the folder on Google Drive you are interested in exploring.\n",
    "\n",
    "The example below is for accessing Polar H10 workout data stored in Google Drive. Data was obtained from participant exports after study completion."
   ]
  },
  {
   "cell_type": "code",
   "execution_count": null,
   "id": "d4f694a2-e80a-422f-aa43-6235950f0d3c",
   "metadata": {},
   "outputs": [],
   "source": [
    "# Import packages for connecting to Google Drive\n",
    "from google.oauth2 import service_account\n",
    "from googleapiclient.discovery import build\n",
    "\n",
    "# CHANGE PATH NAME to where the service account credential is on your computer.\n",
    "credentials_path = '/Users/aubreykr/Documents/exercise_credential.json'\n",
    "\n",
    "# REPLACE FOLDER_ID with the folder in Google Drive you are interested in importing data from.\n",
    "    # Instructions: Search online for the HIIT and Endurance Study shared google drive. Navigate to the folder with data you are interested in. \n",
    "    # Look at the web URL. Replace 'folder_id' with the end of the URL.\n",
    "    # Example for getting Polar Data: HIIT and Endurance Study Drive > Data > data > workout folder. The workout folder URL is https://drive.google.com/drive/folders/1a9Bmg89_9m9BaYLsLw52PS_m07FQ7CtZ.\n",
    "    # Notice how the end of the web URL is the folder_id.\n",
    "folder_id = '1a9Bmg89_9m9BaYLsLw52PS_m07FQ7CtZ'\n",
    "\n",
    "# Authenticate with Google Drive using service account credentials\n",
    "credentials = service_account.Credentials.from_service_account_file(credentials_path, scopes=['https://www.googleapis.com/auth/drive'])\n",
    "drive_service = build('drive', 'v3', credentials=credentials)\n",
    "\n",
    "# Get files\n",
    "def get_file_ids_from_dir(parent_id):\n",
    "    # drive_service = setup_drive()\n",
    "    results = drive_service.files().list(\n",
    "        corpora='drive',\n",
    "        driveId='0AB6End4Uf7P-Uk9PVA', # if you search for the HIIT and Endurance Study shared google drive, this ID is taken from the end of the pathname: https://drive.google.com/drive/folders/0AB6End4Uf7P-Uk9PVA\n",
    "        q=f\"'{parent_id}' in parents\",\n",
    "        includeItemsFromAllDrives=True,\n",
    "        supportsAllDrives=True\n",
    "    ).execute()\n",
    "    files = results.get('files', [])\n",
    "    if not files:\n",
    "        raise Exception(f\"Folder {parent_id} has no files!\")\n",
    "    # id_name = [{x['name'] : x['id']} for x in files]\n",
    "    id_name = {}\n",
    "    for x in files:\n",
    "        id_name[x['name']] = x['id']\n",
    "    return id_name\n",
    "\n",
    "# Get file names from folder\n",
    "fileids = get_file_ids_from_dir(folder_id)\n",
    "\n",
    "# Print the files names from the folder\n",
    "print(fileids)\n"
   ]
  }
 ],
 "metadata": {
  "kernelspec": {
   "display_name": "Python 3 (ipykernel)",
   "language": "python",
   "name": "python3"
  },
  "language_info": {
   "codemirror_mode": {
    "name": "ipython",
    "version": 3
   },
   "file_extension": ".py",
   "mimetype": "text/x-python",
   "name": "python",
   "nbconvert_exporter": "python",
   "pygments_lexer": "ipython3",
   "version": "3.10.13"
  }
 },
 "nbformat": 4,
 "nbformat_minor": 5
}
