{
 "cells": [
  {
   "cell_type": "markdown",
   "id": "c8890c6e-329f-4886-8934-709ac8b8eb00",
   "metadata": {},
   "source": [
    "# CPX / CTRU Data checks\n",
    "### Last update June 2, 2024\n",
    "### Aubrey Roberts"
   ]
  },
  {
   "cell_type": "code",
   "execution_count": 283,
   "id": "ea775398-43fb-49db-b4fa-6357600b08f8",
   "metadata": {},
   "outputs": [],
   "source": [
    "# Load packages\n",
    "import numpy as np\n",
    "import pandas as pd\n",
    "from matplotlib.pyplot import subplots\n",
    "import matplotlib.pyplot as plt\n",
    "import statsmodels.api as sm\n",
    "import csv\n",
    "import re"
   ]
  },
  {
   "cell_type": "markdown",
   "id": "3b40669d-4c0f-4e78-b6e7-343c49deb7f9",
   "metadata": {},
   "source": [
    "## Single use case: how to extract VO2 peak"
   ]
  },
  {
   "cell_type": "code",
   "execution_count": 284,
   "id": "075ccc1b-a313-43ee-8d73-0390c3237eab",
   "metadata": {},
   "outputs": [
    {
     "data": {
      "text/html": [
       "<div>\n",
       "<style scoped>\n",
       "    .dataframe tbody tr th:only-of-type {\n",
       "        vertical-align: middle;\n",
       "    }\n",
       "\n",
       "    .dataframe tbody tr th {\n",
       "        vertical-align: top;\n",
       "    }\n",
       "\n",
       "    .dataframe thead th {\n",
       "        text-align: right;\n",
       "    }\n",
       "</style>\n",
       "<table border=\"1\" class=\"dataframe\">\n",
       "  <thead>\n",
       "    <tr style=\"text-align: right;\">\n",
       "      <th></th>\n",
       "      <th>record_id</th>\n",
       "      <th>Max</th>\n",
       "      <th>date</th>\n",
       "      <th>last_name</th>\n",
       "      <th>timepoint</th>\n",
       "    </tr>\n",
       "  </thead>\n",
       "  <tbody>\n",
       "    <tr>\n",
       "      <th>0</th>\n",
       "      <td>3</td>\n",
       "      <td>33</td>\n",
       "      <td>6/20/2023</td>\n",
       "      <td>DELWEL</td>\n",
       "      <td>baseline</td>\n",
       "    </tr>\n",
       "  </tbody>\n",
       "</table>\n",
       "</div>"
      ],
      "text/plain": [
       "  record_id Max       date last_name timepoint\n",
       "0         3  33  6/20/2023    DELWEL  baseline"
      ]
     },
     "execution_count": 284,
     "metadata": {},
     "output_type": "execute_result"
    }
   ],
   "source": [
    "# Specify data of interest \n",
    "path = \"/Users/aubreykr/Google Drive/Shared drives/HIIT and Endurance Study/Data/data/cpet_bxb/shc_vo2-max/baseline/3_scr_bl_ep_arm_1_bl_cpx_raw_data.xlsx\"\n",
    "\n",
    "# Read in first CPX sheet (name, test date)\n",
    "df = pd.read_excel(path)\n",
    "df1 = pd.DataFrame(df)\n",
    "\n",
    "test_date=df1.columns[4]\n",
    "first_name = df1.iat[1,1]\n",
    "last_name = df1.iat[0,1]\n",
    "\n",
    "# Extract record_id from path name\n",
    "string = str.split(path,'/')[11]\n",
    "record_id = str.split(string,'_')[0]\n",
    "timepoint = str.split(path,'/')[10]\n",
    "\n",
    "# Print participant\n",
    "#record_id, first_name, last_name, timepoint, test_date\n",
    "\n",
    "# Read the second sheet (for VO2 peak)\n",
    "df2 = pd.read_excel(path, sheet_name='Results', skiprows=13)\n",
    "df2 = df2[df2['Parameter'] == 'VO2/Kg'][['Max']]\n",
    "\n",
    "df2['date'] = test_date\n",
    "df2['record_id'] = record_id\n",
    "df2['last_name'] = last_name\n",
    "df2['timepoint'] = timepoint\n",
    "df2.reset_index(drop=True, inplace=True)\n",
    "col = [\"record_id\"]\n",
    "df2 = df2[col + [x for x in df2.columns if x not in col]]\n",
    "df2"
   ]
  },
  {
   "cell_type": "markdown",
   "id": "3da19c94-171d-4dbf-8644-fb26c6cdec98",
   "metadata": {},
   "source": [
    "## Define function for getting VO2 peak from CPX file"
   ]
  },
  {
   "cell_type": "code",
   "execution_count": 285,
   "id": "91ac775f-e18b-4e6a-90d4-f5022df7e6d8",
   "metadata": {},
   "outputs": [
    {
     "data": {
      "text/html": [
       "<div>\n",
       "<style scoped>\n",
       "    .dataframe tbody tr th:only-of-type {\n",
       "        vertical-align: middle;\n",
       "    }\n",
       "\n",
       "    .dataframe tbody tr th {\n",
       "        vertical-align: top;\n",
       "    }\n",
       "\n",
       "    .dataframe thead th {\n",
       "        text-align: right;\n",
       "    }\n",
       "</style>\n",
       "<table border=\"1\" class=\"dataframe\">\n",
       "  <thead>\n",
       "    <tr style=\"text-align: right;\">\n",
       "      <th></th>\n",
       "      <th>record_id</th>\n",
       "      <th>Max</th>\n",
       "      <th>date</th>\n",
       "      <th>last_name</th>\n",
       "      <th>timepoint</th>\n",
       "    </tr>\n",
       "  </thead>\n",
       "  <tbody>\n",
       "    <tr>\n",
       "      <th>0</th>\n",
       "      <td>3</td>\n",
       "      <td>33</td>\n",
       "      <td>6/20/2023</td>\n",
       "      <td>DELWEL</td>\n",
       "      <td>baseline</td>\n",
       "    </tr>\n",
       "  </tbody>\n",
       "</table>\n",
       "</div>"
      ],
      "text/plain": [
       "  record_id Max       date last_name timepoint\n",
       "0         3  33  6/20/2023    DELWEL  baseline"
      ]
     },
     "execution_count": 285,
     "metadata": {},
     "output_type": "execute_result"
    }
   ],
   "source": [
    "def process_file(path):\n",
    "    # Read in first CPX sheet (name, test date)\n",
    "    df = pd.read_excel(path)\n",
    "    df1 = pd.DataFrame(df)\n",
    "\n",
    "    test_date = df1.columns[4]\n",
    "    first_name = df1.iat[1,1]\n",
    "    last_name = df1.iat[0,1]\n",
    "\n",
    "    # Extract record_id and timepoint from path name\n",
    "    string = str.split(path, '/')[11]\n",
    "    record_id = str.split(string, '_')[0]\n",
    "    timepoint = str.split(path, '/')[10]\n",
    "\n",
    "    # Read the second sheet (for VO2 peak)\n",
    "    df2 = pd.read_excel(path, sheet_name='Results', skiprows=13)\n",
    "    df2 = df2[df2['Parameter'] == 'VO2/Kg'][['Max']]\n",
    "\n",
    "    df2['date'] = test_date\n",
    "    df2['record_id'] = record_id\n",
    "    df2['last_name'] = last_name\n",
    "    df2['timepoint'] = timepoint\n",
    "    df2.reset_index(drop=True, inplace=True)\n",
    "    col = [\"record_id\"]\n",
    "    df2 = df2[col + [x for x in df2.columns if x not in col]]\n",
    "    df2\n",
    "    \n",
    "    return df2\n",
    "\n",
    "process_file(path)"
   ]
  },
  {
   "cell_type": "markdown",
   "id": "8fa3cd25-22f9-4911-aef5-ce8c26f07420",
   "metadata": {},
   "source": [
    "### Get all files in Google Drive folder"
   ]
  },
  {
   "cell_type": "code",
   "execution_count": 286,
   "id": "f34afad6-91cb-4c33-aebb-76543ce779e8",
   "metadata": {},
   "outputs": [],
   "source": [
    "# Define the path to your directory\n",
    "import glob\n",
    "import os\n",
    "directory_path = \"/Users/aubreykr/Google Drive/Shared drives/HIIT and Endurance Study/Data/data/cpet_bxb/shc_vo2-max/baseline/\"\n",
    "\n",
    "# Use glob to get a list of all Excel files in the directory\n",
    "file_paths = glob.glob(os.path.join(directory_path, \"*.xlsx\"))"
   ]
  },
  {
   "cell_type": "markdown",
   "id": "08d0e323-1dcb-411d-a185-779f402e2e19",
   "metadata": {},
   "source": [
    "### Get VO2 peaks"
   ]
  },
  {
   "cell_type": "code",
   "execution_count": 287,
   "id": "aaac914a-1540-4394-a938-c18f0c291b11",
   "metadata": {},
   "outputs": [
    {
     "name": "stdout",
     "output_type": "stream",
     "text": [
      "   record_id   Max       date     last_name timepoint\n",
      "0         84  37.5   2/9/2024       Kononov  baseline\n",
      "1          7  35.9  4/14/2023        ZUSHIN  baseline\n",
      "2         94    37   3/6/2024     Mostafavi  baseline\n",
      "3         83  24.9  1/30/2024       Heather  baseline\n",
      "4          6  30.5  4/13/2023    SASINOWSKI  baseline\n",
      "..       ...   ...        ...           ...       ...\n",
      "59        91  37.2  3/22/2024  Jayachandran  baseline\n",
      "60        86  37.4   3/8/2024       Markley  baseline\n",
      "61        39  38.5   8/1/2023        BARLET  baseline\n",
      "62         5  24.9  5/19/2023            SU  baseline\n",
      "63        19  32.5  6/21/2023         MATTY  baseline\n",
      "\n",
      "[64 rows x 5 columns]\n"
     ]
    }
   ],
   "source": [
    "# Run this function\n",
    "\n",
    "# Initialize an empty DataFrame to store results\n",
    "results_df = pd.DataFrame()\n",
    "\n",
    "# Loop over the list of pathnames and process each file\n",
    "for pathname in file_paths:\n",
    "    try:\n",
    "        result = process_file(pathname)\n",
    "        results_df = pd.concat([results_df, result], ignore_index=True)\n",
    "    except Exception as e:\n",
    "        print(f\"Error processing file {pathname}: {e}\")\n",
    "\n",
    "# Print or save the consolidated results\n",
    "print(results_df)\n",
    "# Optionally, save to a file\n",
    "# results_df.to_excel('consolidated_results.xlsx', index=False)"
   ]
  },
  {
   "cell_type": "code",
   "execution_count": 288,
   "id": "787434b8-ca8e-4fb1-9d33-5ff6265a7e2f",
   "metadata": {},
   "outputs": [],
   "source": [
    "results_df['record_id']=pd.to_numeric(results_df[\"record_id\"])\n"
   ]
  },
  {
   "cell_type": "markdown",
   "id": "3ac69fbe-12e3-45e5-9778-8be419c33800",
   "metadata": {},
   "source": [
    "## Repeat for Endpoint Data"
   ]
  },
  {
   "cell_type": "code",
   "execution_count": 301,
   "id": "b5e0f405-5cb2-4352-a22d-d7eec17d1e54",
   "metadata": {},
   "outputs": [],
   "source": [
    "directory_path = \"/Users/aubreykr/Google Drive/Shared drives/HIIT and Endurance Study/Data/data/cpet_bxb/shc_vo2-max/endpoint/\"\n",
    "\n",
    "# Use glob to get a list of all Excel files in the directory\n",
    "file_paths = glob.glob(os.path.join(directory_path, \"*.xlsx\"))\n",
    "\n",
    "# Initialize an empty DataFrame to store results\n",
    "results_df2 = pd.DataFrame()\n",
    "\n",
    "# Loop over the list of pathnames and process each file\n",
    "for pathname in file_paths:\n",
    "    try:\n",
    "        result = process_file(pathname)\n",
    "        results_df2 = pd.concat([results_df2, result], ignore_index=True)\n",
    "    except Exception as e:\n",
    "        print(f\"Error processing file {pathname}: {e}\")\n",
    "\n",
    "# Print or save the consolidated results\n",
    "results_df2['record_id']=pd.to_numeric(results_df2[\"record_id\"])\n",
    "results_df2 = pd.DataFrame(results_df2)\n",
    "results_df = pd.DataFrame(results_df)\n",
    "\n",
    "# Combine BL and EP dfs\n",
    "vo2_df = pd.concat([results_df, results_df2])\n",
    "\n",
    "#vo2_df"
   ]
  },
  {
   "cell_type": "code",
   "execution_count": 302,
   "id": "d4b7c2b2-258a-44d6-8db9-4a4a48a56599",
   "metadata": {},
   "outputs": [],
   "source": [
    "pd.DataFrame(vo2_df)\n",
    "vo2_df['record_id']=pd.to_numeric(vo2_df['record_id'])\n",
    "vo2_df = vo2_df.sort_values(by=['record_id'])"
   ]
  },
  {
   "cell_type": "markdown",
   "id": "11b5a2fd-18b6-4b05-beb2-0dd6e3d7bf24",
   "metadata": {},
   "source": [
    "## Write to Desktop"
   ]
  },
  {
   "cell_type": "code",
   "execution_count": 303,
   "id": "52c7624b-2658-476b-a76c-2b147ceb0097",
   "metadata": {},
   "outputs": [],
   "source": [
    "path = '/Users/aubreykr/Desktop/'\n",
    "vo2_df.to_csv(path + 'test.csv', index = False)"
   ]
  },
  {
   "cell_type": "markdown",
   "id": "38955900-77ae-4e20-9e88-8307d816fe56",
   "metadata": {},
   "source": [
    "## Code for troubleshooting"
   ]
  },
  {
   "cell_type": "code",
   "execution_count": 299,
   "id": "42d8d09b-9998-478a-8d2f-b131b4206e12",
   "metadata": {},
   "outputs": [
    {
     "data": {
      "text/html": [
       "<div>\n",
       "<style scoped>\n",
       "    .dataframe tbody tr th:only-of-type {\n",
       "        vertical-align: middle;\n",
       "    }\n",
       "\n",
       "    .dataframe tbody tr th {\n",
       "        vertical-align: top;\n",
       "    }\n",
       "\n",
       "    .dataframe thead th {\n",
       "        text-align: right;\n",
       "    }\n",
       "</style>\n",
       "<table border=\"1\" class=\"dataframe\">\n",
       "  <thead>\n",
       "    <tr style=\"text-align: right;\">\n",
       "      <th></th>\n",
       "      <th>record_id</th>\n",
       "      <th>Max</th>\n",
       "      <th>date</th>\n",
       "      <th>last_name</th>\n",
       "      <th>timepoint</th>\n",
       "    </tr>\n",
       "  </thead>\n",
       "  <tbody>\n",
       "    <tr>\n",
       "      <th>0</th>\n",
       "      <td>26</td>\n",
       "      <td>30</td>\n",
       "      <td>9/11/2023</td>\n",
       "      <td>LI</td>\n",
       "      <td>endpoint</td>\n",
       "    </tr>\n",
       "  </tbody>\n",
       "</table>\n",
       "</div>"
      ],
      "text/plain": [
       "  record_id Max       date last_name timepoint\n",
       "0        26  30  9/11/2023        LI  endpoint"
      ]
     },
     "execution_count": 299,
     "metadata": {},
     "output_type": "execute_result"
    }
   ],
   "source": [
    "# path = '/Users/aubreykr/Google Drive/Shared drives/HIIT and Endurance Study/Data/data/cpet_bxb/shc_vo2-max/endpoint/26_scr_bl_ep_arm_1_ep_cpx_raw_data.xlsx'\n",
    "# df = pd.read_excel(path)\n",
    "# df1 = pd.DataFrame(df)\n",
    "# df1\n",
    "\n",
    "# test_date = df1.columns[4]\n",
    "# first_name = df1.iat[1,1]\n",
    "# last_name = df1.iat[0,1]\n",
    "\n",
    "# # Extract record_id and timepoint from path name\n",
    "# string = str.split(path, '/')[11]\n",
    "# record_id = str.split(string, '_')[0]\n",
    "# timepoint = str.split(path, '/')[10]\n",
    "\n",
    "# timepoint, record_id, string\n",
    "\n",
    "# # Read the second sheet (for VO2 peak)\n",
    "# df2 = pd.read_excel(path, sheet_name='Results', skiprows=13)\n",
    "# df2 = df2[df2['Parameter'] == 'VO2/Kg'][['Max']]\n",
    "# df2['date'] = test_date\n",
    "# df2['record_id'] = record_id\n",
    "# df2['last_name'] = last_name\n",
    "# df2['timepoint'] = timepoint\n",
    "# df2.reset_index(drop=True, inplace=True)\n",
    "# col = [\"record_id\"]\n",
    "# df2 = df2[col + [x for x in df2.columns if x not in col]]\n",
    "# df2\n",
    "\n",
    "#vo2_df[vo2_df['record_id']==26]"
   ]
  },
  {
   "cell_type": "markdown",
   "id": "a1c087bb-ed8c-4e51-8815-150dd1587467",
   "metadata": {},
   "source": [
    "## Compare with REDCap data"
   ]
  }
 ],
 "metadata": {
  "kernelspec": {
   "display_name": "Python 3 (ipykernel)",
   "language": "python",
   "name": "python3"
  },
  "language_info": {
   "codemirror_mode": {
    "name": "ipython",
    "version": 3
   },
   "file_extension": ".py",
   "mimetype": "text/x-python",
   "name": "python",
   "nbconvert_exporter": "python",
   "pygments_lexer": "ipython3",
   "version": "3.10.13"
  }
 },
 "nbformat": 4,
 "nbformat_minor": 5
}
