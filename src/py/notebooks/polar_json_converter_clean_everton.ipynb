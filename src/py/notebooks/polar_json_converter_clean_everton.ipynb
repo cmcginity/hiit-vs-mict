{
 "cells": [
  {
   "cell_type": "code",
   "execution_count": 1,
   "metadata": {},
   "outputs": [],
   "source": [
    "%reset -f\n",
    "\n",
    "%load_ext autoreload\n",
    "%autoreload 2"
   ]
  },
  {
   "cell_type": "markdown",
   "metadata": {},
   "source": [
    "# Polar Json converter\n",
    "This notebook converts user exported json polar files per participant in a csv file named:\n",
    "\n",
    "f\"{participant id}\\_{train week}\\_{workout of the week}_{myphd id}_hr_WearablePolar_Polar.csv\" \n",
    "\n",
    "whose columns are dateTime and (HR) value"
   ]
  },
  {
   "cell_type": "markdown",
   "metadata": {},
   "source": [
    "Imports and inicialize"
   ]
  },
  {
   "cell_type": "code",
   "execution_count": 3,
   "metadata": {},
   "outputs": [],
   "source": [
    "import random\n",
    "import os, glob\n",
    "import pandas as pd\n",
    "from datetime import datetime, timedelta\n",
    "import json \n",
    "from IPython.display import display, HTML\n",
    "\n",
    "#inicialization\n",
    "random.seed(1000)"
   ]
  },
  {
   "cell_type": "markdown",
   "metadata": {},
   "source": [
    "Gets data from redcap"
   ]
  },
  {
   "cell_type": "code",
   "execution_count": 135,
   "metadata": {},
   "outputs": [],
   "source": [
    "base_path = '/Users/aubreykr/Google Drive/Shared drives/HIIT and Endurance Study/Data/data/Redcap/Raw_Data/'\n",
    "file_red = '64208_HRZones_Raw.csv' # columns of this file: record_id, redcap_event_name, enrollment_status, myphd_id, myphd_date_shift, randomization_group, bl_heart_rate_mict, bl_heart_rate_hiit, workout_1, polar_1, fitbit_1, workout_2\n",
    "\n",
    "# Reads csv\n",
    "df_red = pd.read_csv(f\"{base_path}{file_red}\")\n",
    "df_red.dropna(subset=['myphd_id', 'randomization_group'], inplace=True)\n",
    "\n",
    "# Drop unnecessary columns\n",
    "df_red = df_red.drop(df_red.columns[[0, 2]], axis=1)"
   ]
  },
  {
   "cell_type": "markdown",
   "metadata": {},
   "source": [
    "Gets basic info"
   ]
  },
  {
   "cell_type": "code",
   "execution_count": 110,
   "metadata": {},
   "outputs": [],
   "source": [
    "# This can be automated if in a pur .py script\n",
    "\n",
    "#participant = 'qtz1b13893369732763681'\n",
    "#participant = 'qtz1b19261322566215748'\n",
    "participant = '004_qtz1b18445579426718188'\n",
    "#participant = '005_qtz1b16767772887265127'\n",
    "#participant = '006_qtz1b13893369732763681'\n",
    "#participant = '010_qtz1b19121547781291613'\n",
    "#participant = '012_qtz1b17269433695528197' \n",
    "#participant = '014_qtz1b13168362397931536'\n",
    "#participant = '018_qtz1b19261322566215748'\n",
    "#participant = '019_qtz1b17236523485537658'\n",
    "#participant = '020_qtz1b19129928133897239'\n",
    "#participant = '021_qtz1b16327775253853113'\n",
    "#participant = '036_qtz1b18341388618579643' \n",
    "\n",
    "#hiit_endur_dict = {1:'HIIT', 2:'Endurance'}"
   ]
  },
  {
   "cell_type": "code",
   "execution_count": 137,
   "metadata": {},
   "outputs": [
    {
     "data": {
      "text/html": [
       "<div>\n",
       "<style scoped>\n",
       "    .dataframe tbody tr th:only-of-type {\n",
       "        vertical-align: middle;\n",
       "    }\n",
       "\n",
       "    .dataframe tbody tr th {\n",
       "        vertical-align: top;\n",
       "    }\n",
       "\n",
       "    .dataframe thead th {\n",
       "        text-align: right;\n",
       "    }\n",
       "</style>\n",
       "<table border=\"1\" class=\"dataframe\">\n",
       "  <thead>\n",
       "    <tr style=\"text-align: right;\">\n",
       "      <th></th>\n",
       "      <th>record_id</th>\n",
       "      <th>enrollment_status</th>\n",
       "      <th>randomization_group</th>\n",
       "      <th>myphd_id</th>\n",
       "      <th>myphd_date_shift</th>\n",
       "      <th>target_hr_45</th>\n",
       "      <th>target_hr_55</th>\n",
       "      <th>target_hr_70</th>\n",
       "      <th>target_hr_90</th>\n",
       "    </tr>\n",
       "  </thead>\n",
       "  <tbody>\n",
       "    <tr>\n",
       "      <th>3</th>\n",
       "      <td>4</td>\n",
       "      <td>Completed</td>\n",
       "      <td>HIIT</td>\n",
       "      <td>qtz1b18445579426718188</td>\n",
       "      <td>1607.0</td>\n",
       "      <td>121.25</td>\n",
       "      <td>131.75</td>\n",
       "      <td>147.5</td>\n",
       "      <td>168.5</td>\n",
       "    </tr>\n",
       "  </tbody>\n",
       "</table>\n",
       "</div>"
      ],
      "text/plain": [
       "   record_id enrollment_status randomization_group                myphd_id  \\\n",
       "3          4         Completed                HIIT  qtz1b18445579426718188   \n",
       "\n",
       "   myphd_date_shift  target_hr_45  target_hr_55  target_hr_70  target_hr_90  \n",
       "3            1607.0        121.25        131.75         147.5         168.5  "
      ]
     },
     "execution_count": 137,
     "metadata": {},
     "output_type": "execute_result"
    }
   ],
   "source": [
    "participant_data = df_red[df_red[\"myphd_id\"]==participant.split('_')[1]]\n",
    "participant_data"
   ]
  },
  {
   "cell_type": "markdown",
   "metadata": {},
   "source": [
    "Detailed train notes"
   ]
  },
  {
   "cell_type": "code",
   "execution_count": 112,
   "metadata": {},
   "outputs": [],
   "source": [
    "# Reads csv\n",
    "notes_path = '/Users/aubreykr/Google Drive/Shared drives/HIIT and Endurance Study/Data/data/Redcap/Raw_Data/64208_WorkoutTimeStamps_Raw.csv'\n",
    "# columns of this file:\n",
    "#record_id\tredcap_event_name\tdata_collection_start_date\tdata_collection_end_date\tworkout_1\tborg_rpe_1\tpolar_1\tfitbit_1\theartrate_1\tduration_1\twhy_heartrate1\tnotes_1\tworkout_2\tborg_rpe_2\tpolar_2\tfitbit_2\theartrate_2\tduration_2\twhy_heartrate2\tnotes_2\tworkout_3\tborg_rpe_3\tpolar_3\tfitbit_3\theartrate_3\tduration_3\twhy_heartrate3\tnotes_3\tadmin_inperson_workouts\tadmin_workout_attempts\tadmin_num_success_workouts\tadmin_reasons_for_non_adherence___2\tadmin_reasons_for_non_adherence___3\tadmin_reasons_for_non_adherence___4\tadmin_reasons_for_non_adherence___5\tadmin_reasons_for_non_adherence___6\tadmin_reasons_for_non_adherence___99\tadmin_notes\n",
    "\n",
    "df_notes_orig = pd.read_csv(f\"{notes_path}\")\n",
    "df_notes= df_notes_orig.copy()\n",
    "\n",
    "df_notes['workout_1'] = pd.to_datetime(df_notes['workout_1'])\n",
    "df_notes['workout_2'] = pd.to_datetime(df_notes['workout_2'])\n",
    "df_notes['workout_3'] = pd.to_datetime(df_notes['workout_3'])\n",
    "\n",
    "df_notes['workout1_date_only'] = df_notes['workout_1'].dt.strftime(\"%Y-%m-%d\")\n",
    "df_notes['workout2_date_only'] = df_notes['workout_2'].dt.strftime(\"%Y-%m-%d\")\n",
    "df_notes['workout3_date_only'] = df_notes['workout_3'].dt.strftime(\"%Y-%m-%d\")"
   ]
  },
  {
   "cell_type": "code",
   "execution_count": 49,
   "metadata": {},
   "outputs": [
    {
     "data": {
      "text/plain": [
       "'036_qtz1b18341388618579643'"
      ]
     },
     "execution_count": 49,
     "metadata": {},
     "output_type": "execute_result"
    }
   ],
   "source": [
    "participant"
   ]
  },
  {
   "cell_type": "markdown",
   "metadata": {},
   "source": [
    "Gets data files in folder"
   ]
  },
  {
   "cell_type": "code",
   "execution_count": 156,
   "metadata": {},
   "outputs": [
    {
     "name": "stdout",
     "output_type": "stream",
     "text": [
      "There are 44 files for 004_qtz1b18445579426718188\n"
     ]
    },
    {
     "data": {
      "text/plain": [
       "['training-session-2023-05-04-7639965536-bd8bbffe-a32f-4c8f-b451-dcb8d04307a2.json',\n",
       " 'training-session-2023-05-09-7639976796-3413b2c1-a5b4-4914-86b0-04389c513fbc.json',\n",
       " 'training-session-2023-05-11-7641960377-0017503a-fb12-433a-ad46-847b7e653349.json',\n",
       " 'training-session-2023-05-19-7646694575-4c95b524-fcae-4086-84e4-06846eb08127.json',\n",
       " 'training-session-2023-05-20-7647355253-d6ba1316-5130-458f-8e1d-8dd875eeb0c7.json',\n",
       " 'training-session-2023-05-21-7652079070-a3b3b6bd-f968-4cfa-9225-9230321cf936.json',\n",
       " 'training-session-2023-05-22-7652079051-c7aaa805-3673-407c-abdf-01c96eee0b7b.json',\n",
       " 'training-session-2023-05-27-7653665086-52268c0d-aa9d-4960-8d8b-0382ebaa32f9.json',\n",
       " 'training-session-2023-05-28-7653665079-e3aa0191-81dc-4424-b457-8914f3513adc.json',\n",
       " 'training-session-2023-05-29-7655740085-8b33b340-98bc-4a4f-9773-5a36931f6fdf.json',\n",
       " 'training-session-2023-06-01-7657756164-7b7d078b-8179-4df7-81fd-d6ff1c83bce0.json',\n",
       " 'training-session-2023-06-04-7659087408-6c4a6b96-4cd2-407d-9ac7-40eb0e1f8470.json',\n",
       " 'training-session-2023-06-07-7662019980-9f7ae1af-c228-4b48-a068-73a3c3a62f46.json',\n",
       " 'training-session-2023-06-10-7662019928-c6e91f89-595c-4729-bb1d-fe7ca388ef9b.json',\n",
       " 'training-session-2023-06-11-7664037194-992f02b4-98c5-459a-81a9-b1c1972bc888.json',\n",
       " 'training-session-2023-06-14-7664037180-f09ea100-2037-4348-a125-0d7c48d7540a.json',\n",
       " 'training-session-2023-06-14-7665245813-d7edfa9f-5c2f-448d-aa31-f798aa4a8c2a.json',\n",
       " 'training-session-2023-06-16-7667043003-b6f5c0c3-c135-48da-9ff3-e261adb5cfdc.json',\n",
       " 'training-session-2023-06-19-7667374101-a41ba2d0-3a4e-4c6a-b41d-5d851abb7b15.json',\n",
       " 'training-session-2023-06-20-7668317485-4466fd5f-2bc2-493b-8fc7-a1fa76824970.json',\n",
       " 'training-session-2023-06-21-7674647746-59deaaf8-7b21-4072-8ea2-e84f89663353.json',\n",
       " 'training-session-2023-07-01-7675289800-b2c333df-8de4-4144-a006-1a34a9fbd96d.json',\n",
       " 'training-session-2023-07-02-7675547402-50595c15-10ab-40ef-9781-87d48c7e8aef.json',\n",
       " 'training-session-2023-07-02-7676197650-93b742d6-21be-44d4-b614-1a5d105e1b35.json',\n",
       " 'training-session-2023-07-03-7676202616-44d217c3-e8db-47b9-8673-201fdebdba0b.json',\n",
       " 'training-session-2023-07-04-7677406960-dda49874-83d2-4649-ad18-e8c530adb1c2.json',\n",
       " 'training-session-2023-07-05-7677440838-6dcafbc1-cf25-4303-a39a-59eb5e52cf84.json',\n",
       " 'training-session-2023-07-11-7682230188-4a68b3fb-f4ad-48cb-b1e4-9d668362da0b.json',\n",
       " 'training-session-2023-07-12-7682878910-097c3073-b523-4a17-aa96-8e3a91388b01.json',\n",
       " 'training-session-2023-07-13-7682883853-63f69260-5f70-466e-8d8a-39756c6de340.json',\n",
       " 'training-session-2023-07-20-7687569608-d80991ef-05c8-47ae-98dc-a3fcf2f8a209.json',\n",
       " 'training-session-2023-07-21-7688807786-6acb798e-70b0-4c5e-981e-9745ff829cef.json',\n",
       " 'training-session-2023-07-22-7691600332-805fa4c4-dfc3-4c8c-bace-b838c720c603.json',\n",
       " 'training-session-2023-07-26-7692262027-7680e259-3f23-4c05-8568-85cd4defc697.json',\n",
       " 'training-session-2023-07-27-7693369978-747a4141-4a27-4ad2-b1a9-c13f882ccb71.json',\n",
       " 'training-session-2023-07-29-7693941670-aeaaf47a-7cc7-489e-ad6f-658ce26f538f.json',\n",
       " 'training-session-2023-07-30-7694823615-cbf7d4d4-667f-4755-8b83-e6e4dbc71d1b.json',\n",
       " 'training-session-2023-07-31-7695880271-09ebc2b1-bbf2-48c0-b317-04fd9476bd32.json',\n",
       " 'training-session-2023-08-05-7698612679-dcab1096-8415-4919-8938-1fe0af3c841d.json',\n",
       " 'training-session-2023-08-06-7698643739-affeef0e-7a4e-47ef-aa89-d8b76dfec93f.json',\n",
       " 'training-session-2023-08-06-7698657323-04ab2e79-ffad-4af5-863b-9e2f964356b4.json',\n",
       " 'training-session-2023-08-06-7698664254-2b5f3ce1-ce8d-485c-ae07-0ddee72fd3cf.json',\n",
       " 'training-session-2023-08-06-7700755955-cf8b6995-c85f-44b6-844d-56f1d86f47e1.json',\n",
       " 'training-session-2023-08-09-7702073744-60749c33-6e1a-4b8d-ab6b-d876fc272ac3.json']"
      ]
     },
     "execution_count": 156,
     "metadata": {},
     "output_type": "execute_result"
    }
   ],
   "source": [
    "participant_uuid_dict = {\n",
    "    'qtz1b13893369732763681': '399d81e4-74d4-46b8-9108-3be1fe283269',\n",
    "    'qtz1b19261322566215748': '018_ qtz1b19261322566215748_ 20230921T183939Z',\n",
    "    '004_qtz1b18445579426718188': '004_ qtz1b18445579426718188_0b2466c6-26b4-48f0-b2c0-2202bbb917b9',\n",
    "    '005_qtz1b16767772887265127': '005_ qtz1b16767772887265127_3e6a49fd-34c0-4557-8548-2ca7bc18e739',\n",
    "    '006_qtz1b13893369732763681': '399d81e4-74d4-46b8-9108-3be1fe283269',\n",
    "    '010_qtz1b19121547781291613': '010_qtz1b19121547781291613_defa1a24-443a-4629-a805-577ba9e55b65',\n",
    "    '012_qtz1b17269433695528197': '012_qtz1b17269433695528197',\n",
    "    '014_qtz1b13168362397931536': '014_ qtz1b13168362397931536_69cd54eb-72a7-423c-9877-0060f46162cc',\n",
    "    '018_qtz1b19261322566215748': '018_qtz1b19261322566215748_20230921T183939Z',\n",
    "    '019_qtz1b17236523485537658': '019_ qtz1b138768532473366628 _0814a8bc-b07f-4d50-871e-b2c72dbefb3f',\n",
    "    '020_qtz1b19129928133897239': '020_qtz1b19129928133897239_5a98f3db-4f4e-4c04-addc-379078c23043',\n",
    "    '021_qtz1b16327775253853113': '021_qtz1b16327775253853113_919f64a3-237c-4253-b4b7-5f4031c2e0cd',\n",
    "    '036_qtz1b18341388618579643': '036_qtz1b18341388618579643_d51dddae-356c-4445-88d8-29df18a7c549',\n",
    "}\n",
    "\n",
    "def get_files(participant):\n",
    "    json_path = f\"/Users/aubreykr/Google Drive/Shared drives/HIIT and Endurance Study/Data/data/polar_recovery/{participant}/polar-user-data-export_{participant}/\"\n",
    "    os.chdir(json_path)\n",
    "    files = []\n",
    "    for file in glob.glob(\"training-session*.json\"):\n",
    "        files.append(file)\n",
    "    original_files = files.copy()\n",
    "    files = sorted(files)\n",
    "    print(\"There are\", len(files), \"files for\", participant)\n",
    "    return files\n",
    "\n",
    "\n",
    "get_files(\"004_qtz1b18445579426718188\")"
   ]
  },
  {
   "cell_type": "code",
   "execution_count": 182,
   "metadata": {},
   "outputs": [],
   "source": [
    "def convert_json_to_csv(participant):\n",
    "\n",
    "    # Extract files from Google Drive\n",
    "    json_path = f\"/Users/aubreykr/Google Drive/Shared drives/HIIT and Endurance Study/Data/data/polar_recovery/{participant}/polar-user-data-export_{participant}/\"\n",
    "    os.chdir(json_path)\n",
    "    files = []\n",
    "    for file in glob.glob(\"training-session*.json\"):\n",
    "        files.append(file)\n",
    "    original_files = files.copy()\n",
    "    files = sorted(files)\n",
    "    print(\"There are\", len(files), \"files for\", participant)\n",
    "    \n",
    "    # Load redcap data\n",
    "    df_path = '/Users/aubreykr/Google Drive/Shared drives/HIIT and Endurance Study/Data/data/Redcap/Raw_Data/64208_HRZones_Raw.csv'\n",
    "    df_red = pd.read_csv(f\"{df_path}\")\n",
    "    \n",
    "    try:\n",
    "        participant_aux = participant.split('_')[1]\n",
    "    except:\n",
    "        pass\n",
    "    \n",
    "    participant_info = df_red[df_red['myphd_id']==participant_aux]['record_id'].iloc[0]\n",
    "    \n",
    "    for file in files:\n",
    "        full_file_name = f\"{json_path}{file}\"\n",
    "\n",
    "    # Read JSON data from the file and store it as a string\n",
    "        with open(full_file_name, 'r', ) as file2read:\n",
    "            json_data = file2read.read()\n",
    "            file2read.close()\n",
    "            data_dict = json.loads(json_data)\n",
    "            exercises = data_dict['exercises']\n",
    "\n",
    "        try: df_hr = pd.DataFrame(exercises[0]['samples']['heartRate'])\n",
    "\n",
    "        except: pass\n",
    "    \n",
    "        df_hr['dateTime'] = pd.to_datetime(df_hr['dateTime'])\n",
    "\n",
    "        if df_hr['dateTime'].max() - df_hr['dateTime'].min() > timedelta(minutes=10):\n",
    "\n",
    "            date_info = df_hr['dateTime'].iloc[0].strftime(\"%Y-%m-%d\")     \n",
    "            wo1_df = df_notes[(df_notes['record_id']==participant_info) & (df_notes['workout1_date_only']==date_info)] \n",
    "            wo2_df = df_notes[(df_notes['record_id']==participant_info) & (df_notes['workout2_date_only']==date_info)] \n",
    "            wo3_df = df_notes[(df_notes['record_id']==participant_info) & (df_notes['workout3_date_only']==date_info)]\n",
    "\n",
    "            if len(wo1_df)>0:\n",
    "                train_week_info = wo1_df['redcap_event_name'].iloc[0]\n",
    "                workout_export=\"\"\n",
    "                \n",
    "            elif len(wo2_df)>0:\n",
    "                train_week_info = wo2_df['redcap_event_name'].iloc[0]\n",
    "                workout_export=\"\"\n",
    "                \n",
    "            elif len(wo3_df)>0:\n",
    "                train_week_info = wo3_df['redcap_event_name'].iloc[0]\n",
    "                workout_export=\"\"\n",
    "                \n",
    "            else:\n",
    "                train_week_info = 'week_NotInRedcap_recorded'\n",
    "                workout_export= \"NEED_QC_CHECK\"\n",
    "    \n",
    "            output_path = f\"/Users/aubreykr/Google Drive/Shared drives/HIIT and Endurance Study/Data/data/polar/workout/{participant}/\"\n",
    "    \n",
    "            # Use the date_info directly in the output name\n",
    "            #output_name = f\"{participant_info:03}_{train_week_info.split('_')[1].zfill(2)}_{workout_export}_{participant_aux}_hr_WearablePolar_Polar.csv\" \n",
    "            output_name = f\"{participant_info:03}_{date_info}_{workout_export}_{participant_aux}_hr_WearablePolar_Polar.csv\"\n",
    "    \n",
    "            \n",
    "            if not os.path.exists(output_path):  \n",
    "                os.mkdir(output_path)  \n",
    "            \n",
    "            fullname = os.path.join(output_path, output_name)      \n",
    "            df_hr.to_csv(fullname, index=False)\n",
    "            \n",
    "            print(f\"CSV file saved: {fullname}\")"
   ]
  },
  {
   "cell_type": "code",
   "execution_count": 183,
   "metadata": {},
   "outputs": [
    {
     "name": "stdout",
     "output_type": "stream",
     "text": [
      "There are 39 files for 046_qtz1b12637499885254663\n",
      "CSV file saved: /Users/aubreykr/Google Drive/Shared drives/HIIT and Endurance Study/Data/data/polar/workout/046_qtz1b12637499885254663/046_2023-08-21__qtz1b12637499885254663_hr_WearablePolar_Polar.csv\n",
      "CSV file saved: /Users/aubreykr/Google Drive/Shared drives/HIIT and Endurance Study/Data/data/polar/workout/046_qtz1b12637499885254663/046_2023-08-24__qtz1b12637499885254663_hr_WearablePolar_Polar.csv\n",
      "CSV file saved: /Users/aubreykr/Google Drive/Shared drives/HIIT and Endurance Study/Data/data/polar/workout/046_qtz1b12637499885254663/046_2023-08-26__qtz1b12637499885254663_hr_WearablePolar_Polar.csv\n",
      "CSV file saved: /Users/aubreykr/Google Drive/Shared drives/HIIT and Endurance Study/Data/data/polar/workout/046_qtz1b12637499885254663/046_2023-08-28__qtz1b12637499885254663_hr_WearablePolar_Polar.csv\n",
      "CSV file saved: /Users/aubreykr/Google Drive/Shared drives/HIIT and Endurance Study/Data/data/polar/workout/046_qtz1b12637499885254663/046_2023-08-30__qtz1b12637499885254663_hr_WearablePolar_Polar.csv\n",
      "CSV file saved: /Users/aubreykr/Google Drive/Shared drives/HIIT and Endurance Study/Data/data/polar/workout/046_qtz1b12637499885254663/046_2023-09-02__qtz1b12637499885254663_hr_WearablePolar_Polar.csv\n",
      "CSV file saved: /Users/aubreykr/Google Drive/Shared drives/HIIT and Endurance Study/Data/data/polar/workout/046_qtz1b12637499885254663/046_2023-09-05__qtz1b12637499885254663_hr_WearablePolar_Polar.csv\n",
      "CSV file saved: /Users/aubreykr/Google Drive/Shared drives/HIIT and Endurance Study/Data/data/polar/workout/046_qtz1b12637499885254663/046_2023-09-07__qtz1b12637499885254663_hr_WearablePolar_Polar.csv\n",
      "CSV file saved: /Users/aubreykr/Google Drive/Shared drives/HIIT and Endurance Study/Data/data/polar/workout/046_qtz1b12637499885254663/046_2023-09-09__qtz1b12637499885254663_hr_WearablePolar_Polar.csv\n",
      "CSV file saved: /Users/aubreykr/Google Drive/Shared drives/HIIT and Endurance Study/Data/data/polar/workout/046_qtz1b12637499885254663/046_2023-09-11__qtz1b12637499885254663_hr_WearablePolar_Polar.csv\n",
      "CSV file saved: /Users/aubreykr/Google Drive/Shared drives/HIIT and Endurance Study/Data/data/polar/workout/046_qtz1b12637499885254663/046_2023-09-14__qtz1b12637499885254663_hr_WearablePolar_Polar.csv\n",
      "CSV file saved: /Users/aubreykr/Google Drive/Shared drives/HIIT and Endurance Study/Data/data/polar/workout/046_qtz1b12637499885254663/046_2023-09-16__qtz1b12637499885254663_hr_WearablePolar_Polar.csv\n",
      "CSV file saved: /Users/aubreykr/Google Drive/Shared drives/HIIT and Endurance Study/Data/data/polar/workout/046_qtz1b12637499885254663/046_2023-09-18__qtz1b12637499885254663_hr_WearablePolar_Polar.csv\n",
      "CSV file saved: /Users/aubreykr/Google Drive/Shared drives/HIIT and Endurance Study/Data/data/polar/workout/046_qtz1b12637499885254663/046_2023-09-20__qtz1b12637499885254663_hr_WearablePolar_Polar.csv\n",
      "CSV file saved: /Users/aubreykr/Google Drive/Shared drives/HIIT and Endurance Study/Data/data/polar/workout/046_qtz1b12637499885254663/046_2023-09-22_NEED_QC_CHECK_qtz1b12637499885254663_hr_WearablePolar_Polar.csv\n",
      "CSV file saved: /Users/aubreykr/Google Drive/Shared drives/HIIT and Endurance Study/Data/data/polar/workout/046_qtz1b12637499885254663/046_2023-09-26__qtz1b12637499885254663_hr_WearablePolar_Polar.csv\n",
      "CSV file saved: /Users/aubreykr/Google Drive/Shared drives/HIIT and Endurance Study/Data/data/polar/workout/046_qtz1b12637499885254663/046_2023-09-28_NEED_QC_CHECK_qtz1b12637499885254663_hr_WearablePolar_Polar.csv\n",
      "CSV file saved: /Users/aubreykr/Google Drive/Shared drives/HIIT and Endurance Study/Data/data/polar/workout/046_qtz1b12637499885254663/046_2023-10-01_NEED_QC_CHECK_qtz1b12637499885254663_hr_WearablePolar_Polar.csv\n",
      "CSV file saved: /Users/aubreykr/Google Drive/Shared drives/HIIT and Endurance Study/Data/data/polar/workout/046_qtz1b12637499885254663/046_2023-10-03__qtz1b12637499885254663_hr_WearablePolar_Polar.csv\n",
      "CSV file saved: /Users/aubreykr/Google Drive/Shared drives/HIIT and Endurance Study/Data/data/polar/workout/046_qtz1b12637499885254663/046_2023-10-05_NEED_QC_CHECK_qtz1b12637499885254663_hr_WearablePolar_Polar.csv\n",
      "CSV file saved: /Users/aubreykr/Google Drive/Shared drives/HIIT and Endurance Study/Data/data/polar/workout/046_qtz1b12637499885254663/046_2023-10-07__qtz1b12637499885254663_hr_WearablePolar_Polar.csv\n",
      "CSV file saved: /Users/aubreykr/Google Drive/Shared drives/HIIT and Endurance Study/Data/data/polar/workout/046_qtz1b12637499885254663/046_2023-10-09_NEED_QC_CHECK_qtz1b12637499885254663_hr_WearablePolar_Polar.csv\n",
      "CSV file saved: /Users/aubreykr/Google Drive/Shared drives/HIIT and Endurance Study/Data/data/polar/workout/046_qtz1b12637499885254663/046_2023-10-12__qtz1b12637499885254663_hr_WearablePolar_Polar.csv\n",
      "CSV file saved: /Users/aubreykr/Google Drive/Shared drives/HIIT and Endurance Study/Data/data/polar/workout/046_qtz1b12637499885254663/046_2023-10-14_NEED_QC_CHECK_qtz1b12637499885254663_hr_WearablePolar_Polar.csv\n",
      "CSV file saved: /Users/aubreykr/Google Drive/Shared drives/HIIT and Endurance Study/Data/data/polar/workout/046_qtz1b12637499885254663/046_2023-10-18__qtz1b12637499885254663_hr_WearablePolar_Polar.csv\n",
      "CSV file saved: /Users/aubreykr/Google Drive/Shared drives/HIIT and Endurance Study/Data/data/polar/workout/046_qtz1b12637499885254663/046_2023-10-21__qtz1b12637499885254663_hr_WearablePolar_Polar.csv\n",
      "CSV file saved: /Users/aubreykr/Google Drive/Shared drives/HIIT and Endurance Study/Data/data/polar/workout/046_qtz1b12637499885254663/046_2023-10-22__qtz1b12637499885254663_hr_WearablePolar_Polar.csv\n",
      "CSV file saved: /Users/aubreykr/Google Drive/Shared drives/HIIT and Endurance Study/Data/data/polar/workout/046_qtz1b12637499885254663/046_2023-10-24__qtz1b12637499885254663_hr_WearablePolar_Polar.csv\n",
      "CSV file saved: /Users/aubreykr/Google Drive/Shared drives/HIIT and Endurance Study/Data/data/polar/workout/046_qtz1b12637499885254663/046_2023-10-26__qtz1b12637499885254663_hr_WearablePolar_Polar.csv\n",
      "CSV file saved: /Users/aubreykr/Google Drive/Shared drives/HIIT and Endurance Study/Data/data/polar/workout/046_qtz1b12637499885254663/046_2023-10-29__qtz1b12637499885254663_hr_WearablePolar_Polar.csv\n",
      "CSV file saved: /Users/aubreykr/Google Drive/Shared drives/HIIT and Endurance Study/Data/data/polar/workout/046_qtz1b12637499885254663/046_2023-10-30__qtz1b12637499885254663_hr_WearablePolar_Polar.csv\n",
      "CSV file saved: /Users/aubreykr/Google Drive/Shared drives/HIIT and Endurance Study/Data/data/polar/workout/046_qtz1b12637499885254663/046_2023-11-01__qtz1b12637499885254663_hr_WearablePolar_Polar.csv\n",
      "CSV file saved: /Users/aubreykr/Google Drive/Shared drives/HIIT and Endurance Study/Data/data/polar/workout/046_qtz1b12637499885254663/046_2023-11-05__qtz1b12637499885254663_hr_WearablePolar_Polar.csv\n",
      "CSV file saved: /Users/aubreykr/Google Drive/Shared drives/HIIT and Endurance Study/Data/data/polar/workout/046_qtz1b12637499885254663/046_2023-11-07__qtz1b12637499885254663_hr_WearablePolar_Polar.csv\n",
      "CSV file saved: /Users/aubreykr/Google Drive/Shared drives/HIIT and Endurance Study/Data/data/polar/workout/046_qtz1b12637499885254663/046_2023-11-10__qtz1b12637499885254663_hr_WearablePolar_Polar.csv\n",
      "CSV file saved: /Users/aubreykr/Google Drive/Shared drives/HIIT and Endurance Study/Data/data/polar/workout/046_qtz1b12637499885254663/046_2023-11-12__qtz1b12637499885254663_hr_WearablePolar_Polar.csv\n"
     ]
    }
   ],
   "source": [
    "convert_json_to_csv(\"046_qtz1b12637499885254663\")"
   ]
  },
  {
   "cell_type": "code",
   "execution_count": 172,
   "metadata": {},
   "outputs": [],
   "source": [
    "import os\n",
    "import glob\n",
    "import json\n",
    "import pandas as pd\n",
    "from datetime import timedelta\n",
    "\n",
    "def convert_json_to_csv(participant):\n",
    "    # Extract files from Google Drive\n",
    "    json_path = f\"/Users/aubreykr/Google Drive/Shared drives/HIIT and Endurance Study/Data/data/polar_recovery/{participant}/polar-user-data-export_{participant}/\"\n",
    "    os.chdir(json_path)\n",
    "    files = []\n",
    "    for file in glob.glob(\"training-session*.json\"):\n",
    "        files.append(file)\n",
    "    original_files = files.copy()\n",
    "    files = sorted(files)\n",
    "    print(f\"There are {len(files)} files for {participant}\")\n",
    "\n",
    "    # Load redcap data\n",
    "    df_path = '/Users/aubreykr/Google Drive/Shared drives/HIIT and Endurance Study/Data/data/Redcap/Raw_Data/64208_HRZones_Raw.csv'\n",
    "    df_red = pd.read_csv(df_path)\n",
    "\n",
    "    try:\n",
    "        participant_aux = participant.split('_')[1]\n",
    "    except IndexError:\n",
    "        participant_aux = None\n",
    "\n",
    "    if participant_aux:\n",
    "        participant_info = df_red[df_red['myphd_id'] == participant_aux]['record_id'].iloc[0]\n",
    "\n",
    "    for file in files:\n",
    "        full_file_name = os.path.join(json_path, file)\n",
    "\n",
    "        # Read JSON data from the file and store it as a string\n",
    "        with open(full_file_name, 'r') as file2read:\n",
    "            json_data = file2read.read()\n",
    "\n",
    "        data_dict = json.loads(json_data)\n",
    "        exercises = data_dict['exercises']\n",
    "\n",
    "        try:\n",
    "            df_hr = pd.DataFrame(exercises[0]['samples']['heartRate'])\n",
    "        except KeyError:\n",
    "            continue  # Skip this file if 'heartRate' data is not present\n",
    "\n",
    "        df_hr['dateTime'] = pd.to_datetime(df_hr['dateTime'])\n",
    "\n",
    "        if df_hr['dateTime'].max() - df_hr['dateTime'].min() > timedelta(minutes=10):\n",
    "            date_info = df_hr['dateTime'].iloc[0].strftime(\"%Y-%m-%d\")\n",
    "\n",
    "            # Assuming df_notes is defined and loaded somewhere in your script\n",
    "            wo1_df = df_notes[(df_notes['record_id'] == participant_info) & (df_notes['workout1_date_only'] == date_info)]\n",
    "            wo2_df = df_notes[(df_notes['record_id'] == participant_info) & (df_notes['workout2_date_only'] == date_info)]\n",
    "            wo3_df = df_notes[(df_notes['record_id'] == participant_info) & (df_notes['workout3_date_only'] == date_info)]\n",
    "\n",
    "            if len(wo1_df) > 0:\n",
    "                train_week_info = wo1_df['redcap_event_name'].iloc[0]\n",
    "                workout_export = \"\"\n",
    "            elif len(wo2_df) > 0:\n",
    "                train_week_info = wo2_df['redcap_event_name'].iloc[0]\n",
    "                workout_export = \"\"\n",
    "            elif len(wo3_df) > 0:\n",
    "                train_week_info = wo3_df['redcap_event_name'].iloc[0]\n",
    "                workout_export = \"\"\n",
    "            else:\n",
    "                train_week_info = 'week_NotInRedcap_recorded'\n",
    "                workout_export = \"NEED_QC_CHECK\"\n",
    "\n",
    "            output_path = f\"/Users/aubreykr/Google Drive/Shared drives/HIIT and Endurance Study/Data/data/polar/workout/{participant}/\"\n",
    "            output_name = f\"{participant_info:03}_{date_info}_{workout_export}_{participant_aux}_hr_WearablePolar_Polar.csv\"\n",
    "\n",
    "            if not os.path.exists(output_path):\n",
    "                os.makedirs(output_path)\n",
    "\n",
    "            fullname = os.path.join(output_path, output_name)\n",
    "            df_hr.to_csv(fullname, index=False)\n",
    "            print(f\"CSV file saved: {fullname}\")\n",
    "\n",
    "    print(\"Processing complete.\")\n"
   ]
  },
  {
   "cell_type": "code",
   "execution_count": 173,
   "metadata": {},
   "outputs": [
    {
     "name": "stdout",
     "output_type": "stream",
     "text": [
      "There are 39 files for 046_qtz1b12637499885254663\n",
      "No valid data for training-session-2023-08-16-7768865871-9a18a11b-3b07-43e6-8853-8423bab63d23.json\n",
      "No valid data for training-session-2023-08-16-7768865892-ca7e91da-8ad4-4ec5-98b9-378849e68f52.json\n",
      "CSV file saved: /Users/aubreykr/Google Drive/Shared drives/HIIT and Endurance Study/Data/data/polar/workout/046_qtz1b12637499885254663/046_2023-08-21__qtz1b12637499885254663_hr_WearablePolar_Polar.csv\n",
      "CSV file saved: /Users/aubreykr/Google Drive/Shared drives/HIIT and Endurance Study/Data/data/polar/workout/046_qtz1b12637499885254663/046_2023-08-24__qtz1b12637499885254663_hr_WearablePolar_Polar.csv\n",
      "CSV file saved: /Users/aubreykr/Google Drive/Shared drives/HIIT and Endurance Study/Data/data/polar/workout/046_qtz1b12637499885254663/046_2023-08-26__qtz1b12637499885254663_hr_WearablePolar_Polar.csv\n",
      "CSV file saved: /Users/aubreykr/Google Drive/Shared drives/HIIT and Endurance Study/Data/data/polar/workout/046_qtz1b12637499885254663/046_2023-08-28__qtz1b12637499885254663_hr_WearablePolar_Polar.csv\n",
      "CSV file saved: /Users/aubreykr/Google Drive/Shared drives/HIIT and Endurance Study/Data/data/polar/workout/046_qtz1b12637499885254663/046_2023-08-30__qtz1b12637499885254663_hr_WearablePolar_Polar.csv\n",
      "CSV file saved: /Users/aubreykr/Google Drive/Shared drives/HIIT and Endurance Study/Data/data/polar/workout/046_qtz1b12637499885254663/046_2023-09-02__qtz1b12637499885254663_hr_WearablePolar_Polar.csv\n",
      "CSV file saved: /Users/aubreykr/Google Drive/Shared drives/HIIT and Endurance Study/Data/data/polar/workout/046_qtz1b12637499885254663/046_2023-09-05__qtz1b12637499885254663_hr_WearablePolar_Polar.csv\n",
      "CSV file saved: /Users/aubreykr/Google Drive/Shared drives/HIIT and Endurance Study/Data/data/polar/workout/046_qtz1b12637499885254663/046_2023-09-07__qtz1b12637499885254663_hr_WearablePolar_Polar.csv\n",
      "No valid data for training-session-2023-09-07-7768865702-8e365eed-cf51-4d42-8cd7-dd926c2f0581.json\n",
      "CSV file saved: /Users/aubreykr/Google Drive/Shared drives/HIIT and Endurance Study/Data/data/polar/workout/046_qtz1b12637499885254663/046_2023-09-09__qtz1b12637499885254663_hr_WearablePolar_Polar.csv\n",
      "CSV file saved: /Users/aubreykr/Google Drive/Shared drives/HIIT and Endurance Study/Data/data/polar/workout/046_qtz1b12637499885254663/046_2023-09-11__qtz1b12637499885254663_hr_WearablePolar_Polar.csv\n",
      "CSV file saved: /Users/aubreykr/Google Drive/Shared drives/HIIT and Endurance Study/Data/data/polar/workout/046_qtz1b12637499885254663/046_2023-09-14__qtz1b12637499885254663_hr_WearablePolar_Polar.csv\n",
      "CSV file saved: /Users/aubreykr/Google Drive/Shared drives/HIIT and Endurance Study/Data/data/polar/workout/046_qtz1b12637499885254663/046_2023-09-16__qtz1b12637499885254663_hr_WearablePolar_Polar.csv\n",
      "CSV file saved: /Users/aubreykr/Google Drive/Shared drives/HIIT and Endurance Study/Data/data/polar/workout/046_qtz1b12637499885254663/046_2023-09-18__qtz1b12637499885254663_hr_WearablePolar_Polar.csv\n",
      "CSV file saved: /Users/aubreykr/Google Drive/Shared drives/HIIT and Endurance Study/Data/data/polar/workout/046_qtz1b12637499885254663/046_2023-09-20__qtz1b12637499885254663_hr_WearablePolar_Polar.csv\n",
      "CSV file saved: /Users/aubreykr/Google Drive/Shared drives/HIIT and Endurance Study/Data/data/polar/workout/046_qtz1b12637499885254663/046_2023-09-22_NEED_QC_CHECK_qtz1b12637499885254663_hr_WearablePolar_Polar.csv\n",
      "CSV file saved: /Users/aubreykr/Google Drive/Shared drives/HIIT and Endurance Study/Data/data/polar/workout/046_qtz1b12637499885254663/046_2023-09-26__qtz1b12637499885254663_hr_WearablePolar_Polar.csv\n",
      "CSV file saved: /Users/aubreykr/Google Drive/Shared drives/HIIT and Endurance Study/Data/data/polar/workout/046_qtz1b12637499885254663/046_2023-09-28_NEED_QC_CHECK_qtz1b12637499885254663_hr_WearablePolar_Polar.csv\n",
      "CSV file saved: /Users/aubreykr/Google Drive/Shared drives/HIIT and Endurance Study/Data/data/polar/workout/046_qtz1b12637499885254663/046_2023-10-01_NEED_QC_CHECK_qtz1b12637499885254663_hr_WearablePolar_Polar.csv\n",
      "CSV file saved: /Users/aubreykr/Google Drive/Shared drives/HIIT and Endurance Study/Data/data/polar/workout/046_qtz1b12637499885254663/046_2023-10-03__qtz1b12637499885254663_hr_WearablePolar_Polar.csv\n",
      "CSV file saved: /Users/aubreykr/Google Drive/Shared drives/HIIT and Endurance Study/Data/data/polar/workout/046_qtz1b12637499885254663/046_2023-10-05_NEED_QC_CHECK_qtz1b12637499885254663_hr_WearablePolar_Polar.csv\n",
      "CSV file saved: /Users/aubreykr/Google Drive/Shared drives/HIIT and Endurance Study/Data/data/polar/workout/046_qtz1b12637499885254663/046_2023-10-07__qtz1b12637499885254663_hr_WearablePolar_Polar.csv\n",
      "CSV file saved: /Users/aubreykr/Google Drive/Shared drives/HIIT and Endurance Study/Data/data/polar/workout/046_qtz1b12637499885254663/046_2023-10-09_NEED_QC_CHECK_qtz1b12637499885254663_hr_WearablePolar_Polar.csv\n",
      "CSV file saved: /Users/aubreykr/Google Drive/Shared drives/HIIT and Endurance Study/Data/data/polar/workout/046_qtz1b12637499885254663/046_2023-10-12__qtz1b12637499885254663_hr_WearablePolar_Polar.csv\n",
      "CSV file saved: /Users/aubreykr/Google Drive/Shared drives/HIIT and Endurance Study/Data/data/polar/workout/046_qtz1b12637499885254663/046_2023-10-14_NEED_QC_CHECK_qtz1b12637499885254663_hr_WearablePolar_Polar.csv\n",
      "CSV file saved: /Users/aubreykr/Google Drive/Shared drives/HIIT and Endurance Study/Data/data/polar/workout/046_qtz1b12637499885254663/046_2023-10-18__qtz1b12637499885254663_hr_WearablePolar_Polar.csv\n",
      "CSV file saved: /Users/aubreykr/Google Drive/Shared drives/HIIT and Endurance Study/Data/data/polar/workout/046_qtz1b12637499885254663/046_2023-10-21__qtz1b12637499885254663_hr_WearablePolar_Polar.csv\n",
      "CSV file saved: /Users/aubreykr/Google Drive/Shared drives/HIIT and Endurance Study/Data/data/polar/workout/046_qtz1b12637499885254663/046_2023-10-22__qtz1b12637499885254663_hr_WearablePolar_Polar.csv\n",
      "CSV file saved: /Users/aubreykr/Google Drive/Shared drives/HIIT and Endurance Study/Data/data/polar/workout/046_qtz1b12637499885254663/046_2023-10-24__qtz1b12637499885254663_hr_WearablePolar_Polar.csv\n",
      "CSV file saved: /Users/aubreykr/Google Drive/Shared drives/HIIT and Endurance Study/Data/data/polar/workout/046_qtz1b12637499885254663/046_2023-10-26__qtz1b12637499885254663_hr_WearablePolar_Polar.csv\n",
      "CSV file saved: /Users/aubreykr/Google Drive/Shared drives/HIIT and Endurance Study/Data/data/polar/workout/046_qtz1b12637499885254663/046_2023-10-29__qtz1b12637499885254663_hr_WearablePolar_Polar.csv\n",
      "CSV file saved: /Users/aubreykr/Google Drive/Shared drives/HIIT and Endurance Study/Data/data/polar/workout/046_qtz1b12637499885254663/046_2023-10-30__qtz1b12637499885254663_hr_WearablePolar_Polar.csv\n",
      "CSV file saved: /Users/aubreykr/Google Drive/Shared drives/HIIT and Endurance Study/Data/data/polar/workout/046_qtz1b12637499885254663/046_2023-11-01__qtz1b12637499885254663_hr_WearablePolar_Polar.csv\n",
      "CSV file saved: /Users/aubreykr/Google Drive/Shared drives/HIIT and Endurance Study/Data/data/polar/workout/046_qtz1b12637499885254663/046_2023-11-05__qtz1b12637499885254663_hr_WearablePolar_Polar.csv\n",
      "CSV file saved: /Users/aubreykr/Google Drive/Shared drives/HIIT and Endurance Study/Data/data/polar/workout/046_qtz1b12637499885254663/046_2023-11-07__qtz1b12637499885254663_hr_WearablePolar_Polar.csv\n",
      "CSV file saved: /Users/aubreykr/Google Drive/Shared drives/HIIT and Endurance Study/Data/data/polar/workout/046_qtz1b12637499885254663/046_2023-11-10__qtz1b12637499885254663_hr_WearablePolar_Polar.csv\n",
      "CSV file saved: /Users/aubreykr/Google Drive/Shared drives/HIIT and Endurance Study/Data/data/polar/workout/046_qtz1b12637499885254663/046_2023-11-12__qtz1b12637499885254663_hr_WearablePolar_Polar.csv\n",
      "Processing complete.\n"
     ]
    }
   ],
   "source": [
    "convert_json_to_csv(\"046_qtz1b12637499885254663\")"
   ]
  }
 ],
 "metadata": {
  "kernelspec": {
   "display_name": "Python 3 (ipykernel)",
   "language": "python",
   "name": "python3"
  },
  "language_info": {
   "codemirror_mode": {
    "name": "ipython",
    "version": 3
   },
   "file_extension": ".py",
   "mimetype": "text/x-python",
   "name": "python",
   "nbconvert_exporter": "python",
   "pygments_lexer": "ipython3",
   "version": "3.10.13"
  }
 },
 "nbformat": 4,
 "nbformat_minor": 4
}
